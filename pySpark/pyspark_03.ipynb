{
 "cells": [
  {
   "cell_type": "markdown",
   "metadata": {},
   "source": [
    "# PySpark #03\n",
    "\n",
    "Link da Aula: [PySpark - Aula 03 - Union / Joins / When - Otherwise / Collect](https://www.youtube.com/watch?v=EoI3XwxCkfI)\n",
    "\n",
    "**Indice:**\n",
    "\n",
    "- [Importacão bibliotecas/funcões](#importacão-bibliotecasfuncões)\n",
    "- [Iniciando sessão PySpark](#iniciando-sessão-pyspark)\n",
    "- [Criar DF/ler arquivo](#criar-dfler-arquivo)\n",
    "- [Alteracões Aula PySpark 01](#alteracões-aula-pyspark-01)\n",
    "- [Alteracões Aula PySpark 02](#alteracões-aula-pyspark-02)\n",
    "- [Distinct()](#distinct)\n",
    "- [Collect()](#collect)\n",
    "- [When() / Otherwise()](#when--otherwise)\n",
    "- [Union (Concat)](#union-concat)\n",
    "- [Preparando dados para fazer os Joins](#preparando-dados-para-fazer-os-joins)\n",
    "- [Join - Simples](#join---simples)\n",
    "- [Inner Join](#inner-join)\n",
    "- [Left Join](#left-join)\n",
    "- [Right Join](#right-join)\n",
    "- [Full Join](#full-join)\n",
    "- [Semi Join](#semi-join)\n",
    "- [Anti Join](#anti-join)"
   ]
  },
  {
   "cell_type": "markdown",
   "metadata": {},
   "source": [
    "##### Importacão bibliotecas/funcões"
   ]
  },
  {
   "cell_type": "code",
   "execution_count": 1,
   "metadata": {},
   "outputs": [],
   "source": [
    "import os\n",
    "import sys\n",
    "from pyspark.sql import SparkSession\n",
    "from pyspark.sql.functions import *\n",
    "from pyspark.sql.types import *\n",
    "from pyspark.sql.window import Window\n",
    "\n",
    "os.environ['PYSPARK_PYTHON'] = sys.executable\n",
    "os.environ['PYSPARK_DRIVER_PYTHON'] = sys.executable"
   ]
  },
  {
   "cell_type": "markdown",
   "metadata": {},
   "source": [
    "##### Iniciando sessão PySpark"
   ]
  },
  {
   "cell_type": "code",
   "execution_count": 2,
   "metadata": {},
   "outputs": [],
   "source": [
    "spark = (\n",
    "    SparkSession.builder\n",
    "    .master('local')\n",
    "    .appName('PySpark_03')\n",
    "    .getOrCreate()\n",
    ")"
   ]
  },
  {
   "cell_type": "markdown",
   "metadata": {},
   "source": [
    "##### Criar DF/ler arquivo"
   ]
  },
  {
   "cell_type": "code",
   "execution_count": 3,
   "metadata": {},
   "outputs": [],
   "source": [
    "df = spark.read.csv(\"wc2018-players.csv\", header=True, inferSchema=True)"
   ]
  },
  {
   "cell_type": "markdown",
   "metadata": {},
   "source": [
    "##### Alteracões Aula PySpark 01"
   ]
  },
  {
   "cell_type": "code",
   "execution_count": 4,
   "metadata": {},
   "outputs": [],
   "source": [
    "#Renomeando colunas\n",
    "df = df.withColumnRenamed('Team','Selecao').withColumnRenamed('#','Numero')\\\n",
    ".withColumnRenamed('Pos.','Posicao').withColumnRenamed('FIFA Popular Name','Nome_FIFA')\\\n",
    ".withColumnRenamed('Birth Date','Nascimento')\\\n",
    ".withColumnRenamed('Shirt Name','Nome Camiseta').withColumnRenamed('Club','Time')\\\n",
    ".withColumnRenamed('Height','Altura').withColumnRenamed('Weight','Peso')\n",
    "\n",
    "#Extraindo dia, mes e ano\n",
    "dia = udf(lambda data: data.split('.')[0])\n",
    "mes = udf(lambda mes: mes.split('.')[1])\n",
    "ano = udf(lambda ano: ano.split('.')[2])\n",
    "\n",
    "#criando colunas com base nas funcoes, dia, mes e ano\n",
    "df = df.withColumn('Dia', dia('Nascimento')).withColumn('Mes', mes('Nascimento')).withColumn('Ano', ano('Nascimento'))\n",
    "\n",
    "#Criando coluna com dia, mes e ano concatenados e transofrmando no tipo data\n",
    "df = df.withColumn('Data_Nascimento', concat_ws('-', 'Ano', 'Mes', 'Dia').cast(DateType()))"
   ]
  },
  {
   "cell_type": "markdown",
   "metadata": {},
   "source": [
    "##### Alteracões Aula PySpark 02"
   ]
  },
  {
   "cell_type": "code",
   "execution_count": 5,
   "metadata": {},
   "outputs": [],
   "source": [
    "#Removendo colunas\n",
    "df = df.drop('Nascimento', 'Nome_FIFA')"
   ]
  },
  {
   "cell_type": "markdown",
   "metadata": {},
   "source": [
    "##### Distinct()\n",
    "\n",
    "Retorna valores distintos"
   ]
  },
  {
   "cell_type": "code",
   "execution_count": 6,
   "metadata": {},
   "outputs": [
    {
     "name": "stdout",
     "output_type": "stream",
     "text": [
      "+---------+\n",
      "|  Selecao|\n",
      "+---------+\n",
      "|   Russia|\n",
      "|  Senegal|\n",
      "|   Sweden|\n",
      "|  IR Iran|\n",
      "|  Germany|\n",
      "|   France|\n",
      "|Argentina|\n",
      "|  Belgium|\n",
      "|     Peru|\n",
      "|  Croatia|\n",
      "+---------+\n",
      "only showing top 10 rows\n",
      "\n"
     ]
    }
   ],
   "source": [
    "df.select(col('Selecao')).distinct().show(10)"
   ]
  },
  {
   "cell_type": "markdown",
   "metadata": {},
   "source": [
    "##### Collect()\n",
    "\n",
    "Retorna as linhas distintas em forma de lista"
   ]
  },
  {
   "cell_type": "code",
   "execution_count": 7,
   "metadata": {},
   "outputs": [
    {
     "data": {
      "text/plain": [
       "[Row(Selecao='Russia'),\n",
       " Row(Selecao='Senegal'),\n",
       " Row(Selecao='Sweden'),\n",
       " Row(Selecao='IR Iran'),\n",
       " Row(Selecao='Germany'),\n",
       " Row(Selecao='France'),\n",
       " Row(Selecao='Argentina'),\n",
       " Row(Selecao='Belgium'),\n",
       " Row(Selecao='Peru'),\n",
       " Row(Selecao='Croatia'),\n",
       " Row(Selecao='Nigeria'),\n",
       " Row(Selecao='Korea Republic'),\n",
       " Row(Selecao='Spain'),\n",
       " Row(Selecao='Denmark'),\n",
       " Row(Selecao='Morocco'),\n",
       " Row(Selecao='Panama'),\n",
       " Row(Selecao='Iceland'),\n",
       " Row(Selecao='Uruguay'),\n",
       " Row(Selecao='Mexico'),\n",
       " Row(Selecao='Tunisia'),\n",
       " Row(Selecao='Saudi Arabia'),\n",
       " Row(Selecao='Switzerland'),\n",
       " Row(Selecao='Brazil'),\n",
       " Row(Selecao='Japan'),\n",
       " Row(Selecao='England'),\n",
       " Row(Selecao='Poland'),\n",
       " Row(Selecao='Portugal'),\n",
       " Row(Selecao='Australia'),\n",
       " Row(Selecao='Costa Rica'),\n",
       " Row(Selecao='Egypt'),\n",
       " Row(Selecao='Serbia'),\n",
       " Row(Selecao='Colombia')]"
      ]
     },
     "execution_count": 7,
     "metadata": {},
     "output_type": "execute_result"
    }
   ],
   "source": [
    "df.select(col('Selecao')).distinct().collect()"
   ]
  },
  {
   "cell_type": "code",
   "execution_count": 8,
   "metadata": {},
   "outputs": [
    {
     "name": "stdout",
     "output_type": "stream",
     "text": [
      "['Russia', 'Senegal', 'Sweden', 'IR Iran', 'Germany', 'France', 'Argentina', 'Belgium', 'Peru', 'Croatia', 'Nigeria', 'Korea Republic', 'Spain', 'Denmark', 'Morocco', 'Panama', 'Iceland', 'Uruguay', 'Mexico', 'Tunisia', 'Saudi Arabia', 'Switzerland', 'Brazil', 'Japan', 'England', 'Poland', 'Portugal', 'Australia', 'Costa Rica', 'Egypt', 'Serbia', 'Colombia']\n"
     ]
    }
   ],
   "source": [
    "#Adicionado valores do collect em uma lista\n",
    "lista = df.select(col('Selecao')).distinct().collect()\n",
    "paises = []\n",
    "\n",
    "for pais in lista:\n",
    "    paises.append(pais[0])\n",
    "    \n",
    "print(paises)"
   ]
  },
  {
   "cell_type": "markdown",
   "metadata": {},
   "source": [
    "##### When() / Otherwise()\n",
    "\n",
    "Básicamente é o If/Else do pySpark"
   ]
  },
  {
   "cell_type": "code",
   "execution_count": 9,
   "metadata": {},
   "outputs": [
    {
     "name": "stdout",
     "output_type": "stream",
     "text": [
      "+---------+------+-------+-------------+--------------------+------+----+---+---+----+---------------+-----------+\n",
      "|  Selecao|Numero|Posicao|Nome Camiseta|                Time|Altura|Peso|Dia|Mes| Ano|Data_Nascimento|Coluna_Nova|\n",
      "+---------+------+-------+-------------+--------------------+------+----+---+---+----+---------------+-----------+\n",
      "|Argentina|     3|     DF|   TAGLIAFICO|      AFC Ajax (NED)|   169|  65| 31| 08|1992|     1992-08-31| Argentinos|\n",
      "|Argentina|    22|     MF|        PAVÓN|CA Boca Juniors (...|   169|  65| 21| 01|1996|     1996-01-21| Argentinos|\n",
      "|Argentina|    15|     MF|      LANZINI|West Ham United F...|   167|  66| 15| 02|1993|     1993-02-15| Argentinos|\n",
      "|Argentina|    18|     DF|       SALVIO|    SL Benfica (POR)|   167|  69| 13| 07|1990|     1990-07-13| Argentinos|\n",
      "|Argentina|    10|     FW|        MESSI|  FC Barcelona (ESP)|   170|  72| 24| 06|1987|     1987-06-24| Argentinos|\n",
      "+---------+------+-------+-------------+--------------------+------+----+---+---+----+---------------+-----------+\n",
      "only showing top 5 rows\n",
      "\n"
     ]
    }
   ],
   "source": [
    "#When e otherwise, com 1 condicao\n",
    "df.withColumn('Coluna_Nova', when(col('Selecao') == \"Argentina\", \" Argentinos\").otherwise(\"Não Argentinos\")).show(5)"
   ]
  },
  {
   "cell_type": "code",
   "execution_count": 12,
   "metadata": {},
   "outputs": [],
   "source": [
    "#Criando coluna nova When e Otherwise com várias condicões\n",
    "\n",
    "#Criando lista de continentes\n",
    "europa = ['Russia','Sweden','Germany','France', 'Belgium','Croatia', 'Spain', 'Denmark', 'Iceland','Switzerland', 'England','Poland', 'Portugal','Serbia']\n",
    "asia = ['IR Iran','Korea Republic','Saudi Arabia', 'Japan']\n",
    "africa = ['Senegal','Nigeria','Morocco','Tunisia','Egypt']\n",
    "oceania = ['Australia']\n",
    "america_norte = ['Panama','Mexico','Costa Rica']\n",
    "america_sul = ['Argentina','Peru','Uruguay', 'Brazil', 'Colombia']\n",
    "\n",
    "#Criando coluna continente, baseada nos nomes dos paises cima\n",
    "df = df.withColumn('Continente', when(col('Selecao').isin(europa), 'Europa')\\\n",
    "            .when(col('Selecao').isin(asia), 'Ásia')\\\n",
    "            .when(col('Selecao').isin(africa), 'Africa')\\\n",
    "            .when(col('Selecao').isin(oceania), 'Oceania')\\\n",
    "            .when(col('Selecao').isin(america_norte), 'América do Norte')\\\n",
    "            .when(col('Selecao').isin(america_sul), 'América do Sul')\\\n",
    "            .otherwise('Verificar'))"
   ]
  },
  {
   "cell_type": "code",
   "execution_count": 13,
   "metadata": {},
   "outputs": [
    {
     "name": "stdout",
     "output_type": "stream",
     "text": [
      "+-------+------+-------+-------------+----+------+----+---+---+---+---------------+----------+\n",
      "|Selecao|Numero|Posicao|Nome Camiseta|Time|Altura|Peso|Dia|Mes|Ano|Data_Nascimento|Continente|\n",
      "+-------+------+-------+-------------+----+------+----+---+---+---+---------------+----------+\n",
      "+-------+------+-------+-------------+----+------+----+---+---+---+---------------+----------+\n",
      "\n"
     ]
    }
   ],
   "source": [
    "df.filter('Continente = \"Verificar\"').show()"
   ]
  },
  {
   "cell_type": "markdown",
   "metadata": {},
   "source": [
    "##### Union (Concat)\n",
    "\n",
    "Junta Data frames com mesmas colunas. (Um em cima do outro)\n",
    "\n",
    "*OBs: as colunas tem que ser necessáriamente iguais"
   ]
  },
  {
   "cell_type": "code",
   "execution_count": 16,
   "metadata": {},
   "outputs": [
    {
     "name": "stdout",
     "output_type": "stream",
     "text": [
      "+---------+\n",
      "|  Selecao|\n",
      "+---------+\n",
      "|Argentina|\n",
      "|     Peru|\n",
      "|  Uruguay|\n",
      "|   Brazil|\n",
      "| Colombia|\n",
      "+---------+\n",
      "\n"
     ]
    }
   ],
   "source": [
    "#Criando primeiro df\n",
    "df_america_sul = df.filter('Continente = \"América do Sul\"')\n",
    "df_america_sul.select('Selecao').distinct().show()\n"
   ]
  },
  {
   "cell_type": "code",
   "execution_count": 17,
   "metadata": {},
   "outputs": [
    {
     "name": "stdout",
     "output_type": "stream",
     "text": [
      "+----------+\n",
      "|   Selecao|\n",
      "+----------+\n",
      "|    Panama|\n",
      "|    Mexico|\n",
      "|Costa Rica|\n",
      "+----------+\n",
      "\n"
     ]
    }
   ],
   "source": [
    "#Criando segundo df\n",
    "df_america_norte = df.filter('Continente = \"América do Norte\"')\n",
    "df_america_norte.select('Selecao').distinct().show()"
   ]
  },
  {
   "cell_type": "code",
   "execution_count": 18,
   "metadata": {},
   "outputs": [
    {
     "name": "stdout",
     "output_type": "stream",
     "text": [
      "+----------+\n",
      "|   Selecao|\n",
      "+----------+\n",
      "| Argentina|\n",
      "|      Peru|\n",
      "|   Uruguay|\n",
      "|    Brazil|\n",
      "|  Colombia|\n",
      "|    Panama|\n",
      "|    Mexico|\n",
      "|Costa Rica|\n",
      "+----------+\n",
      "\n"
     ]
    }
   ],
   "source": [
    "#Juntando dfs um em baixo do outro\n",
    "df_americas = df_america_sul.union(df_america_norte)\n",
    "#Verificando se a uniao foi feita\n",
    "df_americas.select('Selecao').distinct().show()"
   ]
  },
  {
   "cell_type": "markdown",
   "metadata": {},
   "source": [
    "##### Preparando dados para fazer os Joins"
   ]
  },
  {
   "cell_type": "code",
   "execution_count": 26,
   "metadata": {},
   "outputs": [],
   "source": [
    "#criando dfs separados para mostrar a funcao\n",
    "arg = df.filter('Selecao = \"Argentina\"')\n",
    "bra = df.filter('Selecao = \"Brazil\"')"
   ]
  },
  {
   "cell_type": "code",
   "execution_count": 27,
   "metadata": {},
   "outputs": [],
   "source": [
    "#excluindo colunas desnescessárias\n",
    "arg = arg.drop('Time','Dias','Mes','Ano','Continente','Peso', 'Data_Nascimento')\n",
    "bra = bra.drop('Time','Dias','Mes','Ano','Continente','Peso', 'Data_Nascimento')"
   ]
  },
  {
   "cell_type": "code",
   "execution_count": 24,
   "metadata": {},
   "outputs": [
    {
     "name": "stdout",
     "output_type": "stream",
     "text": [
      "+---------+------+-------+-------------+------+---+\n",
      "|  Selecao|Numero|Posicao|Nome Camiseta|Altura|Dia|\n",
      "+---------+------+-------+-------------+------+---+\n",
      "|Argentina|     3|     DF|   TAGLIAFICO|   169| 31|\n",
      "|Argentina|    22|     MF|        PAVÓN|   169| 21|\n",
      "|Argentina|    15|     MF|      LANZINI|   167| 15|\n",
      "|Argentina|    18|     DF|       SALVIO|   167| 13|\n",
      "|Argentina|    10|     FW|        MESSI|   170| 24|\n",
      "+---------+------+-------+-------------+------+---+\n",
      "only showing top 5 rows\n",
      "\n"
     ]
    }
   ],
   "source": [
    "arg.show(5)"
   ]
  },
  {
   "cell_type": "code",
   "execution_count": 28,
   "metadata": {},
   "outputs": [
    {
     "name": "stdout",
     "output_type": "stream",
     "text": [
      "+-------+------+-------+-------------+------+---+\n",
      "|Selecao|Numero|Posicao|Nome Camiseta|Altura|Dia|\n",
      "+-------+------+-------+-------------+------+---+\n",
      "| Brazil|    18|     MF|         FRED|   169| 05|\n",
      "| Brazil|    21|     FW|       TAISON|   172| 13|\n",
      "| Brazil|    17|     MF|  FERNANDINHO|   179| 04|\n",
      "| Brazil|    22|     DF|       FAGNER|   168| 11|\n",
      "| Brazil|    10|     FW|    NEYMAR JR|   175| 05|\n",
      "+-------+------+-------+-------------+------+---+\n",
      "only showing top 5 rows\n",
      "\n"
     ]
    }
   ],
   "source": [
    "bra.show(5)"
   ]
  },
  {
   "cell_type": "markdown",
   "metadata": {},
   "source": [
    "##### Join - Simples"
   ]
  },
  {
   "cell_type": "code",
   "execution_count": 29,
   "metadata": {},
   "outputs": [
    {
     "name": "stdout",
     "output_type": "stream",
     "text": [
      "+---------+------+-------+-------------+------+---+-------+------+-------+-------------+------+---+\n",
      "|  Selecao|Numero|Posicao|Nome Camiseta|Altura|Dia|Selecao|Numero|Posicao|Nome Camiseta|Altura|Dia|\n",
      "+---------+------+-------+-------------+------+---+-------+------+-------+-------------+------+---+\n",
      "|Argentina|     3|     DF|   TAGLIAFICO|   169| 31| Brazil|     3|     DF|      MIRANDA|   186| 07|\n",
      "|Argentina|    22|     MF|        PAVÓN|   169| 21| Brazil|    22|     DF|       FAGNER|   168| 11|\n",
      "|Argentina|    15|     MF|      LANZINI|   167| 15| Brazil|    15|     MF|     PAULINHO|   181| 25|\n",
      "|Argentina|    18|     DF|       SALVIO|   167| 13| Brazil|    18|     MF|         FRED|   169| 05|\n",
      "|Argentina|    10|     FW|        MESSI|   170| 24| Brazil|    10|     FW|    NEYMAR JR|   175| 05|\n",
      "+---------+------+-------+-------------+------+---+-------+------+-------+-------------+------+---+\n",
      "only showing top 5 rows\n",
      "\n"
     ]
    }
   ],
   "source": [
    "dfnovo = arg.join(bra, arg.Numero == bra.Numero)\n",
    "dfnovo.show(5)"
   ]
  },
  {
   "cell_type": "markdown",
   "metadata": {},
   "source": [
    "##### Inner Join\n",
    "\n",
    "Mostra apenas os dados que tem correspondencias"
   ]
  },
  {
   "cell_type": "code",
   "execution_count": 30,
   "metadata": {},
   "outputs": [
    {
     "name": "stdout",
     "output_type": "stream",
     "text": [
      "+---------+------+-------+-------------+------+---+\n",
      "|  Selecao|Numero|Posicao|Nome Camiseta|Altura|Dia|\n",
      "+---------+------+-------+-------------+------+---+\n",
      "|Argentina|     4|     DF|   TAGLIAFICO|   169| 31|\n",
      "|Argentina|    23|     MF|        PAVÓN|   169| 21|\n",
      "|Argentina|    16|     MF|      LANZINI|   167| 15|\n",
      "|Argentina|    19|     DF|       SALVIO|   167| 13|\n",
      "|Argentina|    11|     FW|        MESSI|   170| 24|\n",
      "|Argentina|     5|     DF|      ANSALDI|   181| 20|\n",
      "|Argentina|     6|     MF|       BIGLIA|   175| 30|\n",
      "|Argentina|     8|     MF|       BANEGA|   175| 29|\n",
      "|Argentina|    15|     DF|   MASCHERANO|   174| 08|\n",
      "|Argentina|    22|     FW|       DYBALA|   177| 15|\n",
      "|Argentina|    20|     FW|       AGÜERO|   172| 02|\n",
      "|Argentina|    10|     FW|      HIGUAÍN|   184| 10|\n",
      "|Argentina|    12|     MF|     DI MARÍA|   178| 14|\n",
      "|Argentina|    21|     MF|     LO CELSO|   177| 09|\n",
      "|Argentina|    14|     MF|         MEZA|   180| 15|\n",
      "|Argentina|     9|     DF|        ACUÑA|   172| 28|\n",
      "|Argentina|    24|     GK|    CABALLERO|   186| 28|\n",
      "|Argentina|     3|     DF|      MERCADO|   181| 18|\n",
      "|Argentina|    18|     DF|     OTAMENDI|   181| 12|\n",
      "|Argentina|    17|     DF|         ROJO|   189| 20|\n",
      "|Argentina|     7|     DF|        FAZIO|   199| 17|\n",
      "|Argentina|    13|     GK|       ARMANI|   189| 16|\n",
      "|Argentina|     2|     GK|       GUZMÁN|   192| 10|\n",
      "+---------+------+-------+-------------+------+---+\n",
      "\n"
     ]
    }
   ],
   "source": [
    "#preparando dados. Mudando os números da arg para fazer o inner join com a bra\n",
    "\n",
    "arg = arg.withColumn('Numero', col('Numero') + 1)\n",
    "arg.show(23)"
   ]
  },
  {
   "cell_type": "code",
   "execution_count": 31,
   "metadata": {},
   "outputs": [
    {
     "name": "stdout",
     "output_type": "stream",
     "text": [
      "+---------+------+-------+-------------+------+---+-------+------+-------+-------------+------+---+\n",
      "|  Selecao|Numero|Posicao|Nome Camiseta|Altura|Dia|Selecao|Numero|Posicao|Nome Camiseta|Altura|Dia|\n",
      "+---------+------+-------+-------------+------+---+-------+------+-------+-------------+------+---+\n",
      "|Argentina|     4|     DF|   TAGLIAFICO|   169| 31| Brazil|     4|     DF|      GEROMEL|   190| 21|\n",
      "|Argentina|    23|     MF|        PAVÓN|   169| 21| Brazil|    23|     GK|      EDERSON|   188| 17|\n",
      "|Argentina|    16|     MF|      LANZINI|   167| 15| Brazil|    16|     GK|       CASSIO|   195| 06|\n",
      "|Argentina|    19|     DF|       SALVIO|   167| 13| Brazil|    19|     MF|      WILLIAN|   175| 09|\n",
      "|Argentina|    11|     FW|        MESSI|   170| 24| Brazil|    11|     MF|  P. COUTINHO|   172| 12|\n",
      "|Argentina|     5|     DF|      ANSALDI|   181| 20| Brazil|     5|     MF|     CASEMIRO|   185| 23|\n",
      "|Argentina|     6|     MF|       BIGLIA|   175| 30| Brazil|     6|     DF|  FILIPE LUIS|   182| 09|\n",
      "|Argentina|     8|     MF|       BANEGA|   175| 29| Brazil|     8|     MF|   R. AUGUSTO|   186| 08|\n",
      "|Argentina|    15|     DF|   MASCHERANO|   174| 08| Brazil|    15|     MF|     PAULINHO|   181| 25|\n",
      "|Argentina|    22|     FW|       DYBALA|   177| 15| Brazil|    22|     DF|       FAGNER|   168| 11|\n",
      "|Argentina|    20|     FW|       AGÜERO|   172| 02| Brazil|    20|     FW|      FIRMINO|   181| 02|\n",
      "|Argentina|    10|     FW|      HIGUAÍN|   184| 10| Brazil|    10|     FW|    NEYMAR JR|   175| 05|\n",
      "|Argentina|    12|     MF|     DI MARÍA|   178| 14| Brazil|    12|     DF|      MARCELO|   174| 12|\n",
      "|Argentina|    21|     MF|     LO CELSO|   177| 09| Brazil|    21|     FW|       TAISON|   172| 13|\n",
      "|Argentina|    14|     MF|         MEZA|   180| 15| Brazil|    14|     DF|       DANILO|   184| 15|\n",
      "|Argentina|     9|     DF|        ACUÑA|   172| 28| Brazil|     9|     FW|     G. JESUS|   175| 03|\n",
      "|Argentina|     3|     DF|      MERCADO|   181| 18| Brazil|     3|     DF|      MIRANDA|   186| 07|\n",
      "|Argentina|    18|     DF|     OTAMENDI|   181| 12| Brazil|    18|     MF|         FRED|   169| 05|\n",
      "|Argentina|    17|     DF|         ROJO|   189| 20| Brazil|    17|     MF|  FERNANDINHO|   179| 04|\n",
      "|Argentina|     7|     DF|        FAZIO|   199| 17| Brazil|     7|     FW|     D. COSTA|   182| 14|\n",
      "|Argentina|    13|     GK|       ARMANI|   189| 16| Brazil|    13|     DF|   MARQUINHOS|   183| 14|\n",
      "|Argentina|     2|     GK|       GUZMÁN|   192| 10| Brazil|     2|     DF|     T. SILVA|   183| 22|\n",
      "+---------+------+-------+-------------+------+---+-------+------+-------+-------------+------+---+\n",
      "\n"
     ]
    }
   ],
   "source": [
    "dfnovo = arg.join(bra, arg.Numero == bra.Numero)\n",
    "dfnovo.show(40)"
   ]
  },
  {
   "cell_type": "markdown",
   "metadata": {},
   "source": [
    "##### Left Join\n",
    "\n",
    "Mostra todos que estao do lado esquerdo (arg)"
   ]
  },
  {
   "cell_type": "code",
   "execution_count": 32,
   "metadata": {},
   "outputs": [
    {
     "name": "stdout",
     "output_type": "stream",
     "text": [
      "+---------+------+-------+-------------+------+---+-------+------+-------+-------------+------+----+\n",
      "|  Selecao|Numero|Posicao|Nome Camiseta|Altura|Dia|Selecao|Numero|Posicao|Nome Camiseta|Altura| Dia|\n",
      "+---------+------+-------+-------------+------+---+-------+------+-------+-------------+------+----+\n",
      "|Argentina|     4|     DF|   TAGLIAFICO|   169| 31| Brazil|     4|     DF|      GEROMEL|   190|  21|\n",
      "|Argentina|    23|     MF|        PAVÓN|   169| 21| Brazil|    23|     GK|      EDERSON|   188|  17|\n",
      "|Argentina|    16|     MF|      LANZINI|   167| 15| Brazil|    16|     GK|       CASSIO|   195|  06|\n",
      "|Argentina|    19|     DF|       SALVIO|   167| 13| Brazil|    19|     MF|      WILLIAN|   175|  09|\n",
      "|Argentina|    11|     FW|        MESSI|   170| 24| Brazil|    11|     MF|  P. COUTINHO|   172|  12|\n",
      "|Argentina|     5|     DF|      ANSALDI|   181| 20| Brazil|     5|     MF|     CASEMIRO|   185|  23|\n",
      "|Argentina|     6|     MF|       BIGLIA|   175| 30| Brazil|     6|     DF|  FILIPE LUIS|   182|  09|\n",
      "|Argentina|     8|     MF|       BANEGA|   175| 29| Brazil|     8|     MF|   R. AUGUSTO|   186|  08|\n",
      "|Argentina|    15|     DF|   MASCHERANO|   174| 08| Brazil|    15|     MF|     PAULINHO|   181|  25|\n",
      "|Argentina|    22|     FW|       DYBALA|   177| 15| Brazil|    22|     DF|       FAGNER|   168|  11|\n",
      "|Argentina|    20|     FW|       AGÜERO|   172| 02| Brazil|    20|     FW|      FIRMINO|   181|  02|\n",
      "|Argentina|    10|     FW|      HIGUAÍN|   184| 10| Brazil|    10|     FW|    NEYMAR JR|   175|  05|\n",
      "|Argentina|    12|     MF|     DI MARÍA|   178| 14| Brazil|    12|     DF|      MARCELO|   174|  12|\n",
      "|Argentina|    21|     MF|     LO CELSO|   177| 09| Brazil|    21|     FW|       TAISON|   172|  13|\n",
      "|Argentina|    14|     MF|         MEZA|   180| 15| Brazil|    14|     DF|       DANILO|   184|  15|\n",
      "|Argentina|     9|     DF|        ACUÑA|   172| 28| Brazil|     9|     FW|     G. JESUS|   175|  03|\n",
      "|Argentina|    24|     GK|    CABALLERO|   186| 28|   null|  null|   null|         null|  null|null|\n",
      "|Argentina|     3|     DF|      MERCADO|   181| 18| Brazil|     3|     DF|      MIRANDA|   186|  07|\n",
      "|Argentina|    18|     DF|     OTAMENDI|   181| 12| Brazil|    18|     MF|         FRED|   169|  05|\n",
      "|Argentina|    17|     DF|         ROJO|   189| 20| Brazil|    17|     MF|  FERNANDINHO|   179|  04|\n",
      "|Argentina|     7|     DF|        FAZIO|   199| 17| Brazil|     7|     FW|     D. COSTA|   182|  14|\n",
      "|Argentina|    13|     GK|       ARMANI|   189| 16| Brazil|    13|     DF|   MARQUINHOS|   183|  14|\n",
      "|Argentina|     2|     GK|       GUZMÁN|   192| 10| Brazil|     2|     DF|     T. SILVA|   183|  22|\n",
      "+---------+------+-------+-------------+------+---+-------+------+-------+-------------+------+----+\n",
      "\n"
     ]
    }
   ],
   "source": [
    "dfnovo = arg.join(bra, arg.Numero == bra.Numero, 'left')\n",
    "dfnovo.show(40)"
   ]
  },
  {
   "cell_type": "markdown",
   "metadata": {},
   "source": [
    "##### Right Join\n",
    "\n",
    "Mostra todos os valores do lado direito(bra)"
   ]
  },
  {
   "cell_type": "code",
   "execution_count": 33,
   "metadata": {},
   "outputs": [
    {
     "name": "stdout",
     "output_type": "stream",
     "text": [
      "+---------+------+-------+-------------+------+----+-------+------+-------+-------------+------+---+\n",
      "|  Selecao|Numero|Posicao|Nome Camiseta|Altura| Dia|Selecao|Numero|Posicao|Nome Camiseta|Altura|Dia|\n",
      "+---------+------+-------+-------------+------+----+-------+------+-------+-------------+------+---+\n",
      "|Argentina|    18|     DF|     OTAMENDI|   181|  12| Brazil|    18|     MF|         FRED|   169| 05|\n",
      "|Argentina|    21|     MF|     LO CELSO|   177|  09| Brazil|    21|     FW|       TAISON|   172| 13|\n",
      "|Argentina|    17|     DF|         ROJO|   189|  20| Brazil|    17|     MF|  FERNANDINHO|   179| 04|\n",
      "|Argentina|    22|     FW|       DYBALA|   177|  15| Brazil|    22|     DF|       FAGNER|   168| 11|\n",
      "|Argentina|    10|     FW|      HIGUAÍN|   184|  10| Brazil|    10|     FW|    NEYMAR JR|   175| 05|\n",
      "|Argentina|    11|     FW|        MESSI|   170|  24| Brazil|    11|     MF|  P. COUTINHO|   172| 12|\n",
      "|Argentina|     7|     DF|        FAZIO|   199|  17| Brazil|     7|     FW|     D. COSTA|   182| 14|\n",
      "|Argentina|     6|     MF|       BIGLIA|   175|  30| Brazil|     6|     DF|  FILIPE LUIS|   182| 09|\n",
      "|Argentina|     9|     DF|        ACUÑA|   172|  28| Brazil|     9|     FW|     G. JESUS|   175| 03|\n",
      "|Argentina|    13|     GK|       ARMANI|   189|  16| Brazil|    13|     DF|   MARQUINHOS|   183| 14|\n",
      "|Argentina|    20|     FW|       AGÜERO|   172|  02| Brazil|    20|     FW|      FIRMINO|   181| 02|\n",
      "|Argentina|    19|     DF|       SALVIO|   167|  13| Brazil|    19|     MF|      WILLIAN|   175| 09|\n",
      "|Argentina|     3|     DF|      MERCADO|   181|  18| Brazil|     3|     DF|      MIRANDA|   186| 07|\n",
      "|Argentina|    14|     MF|         MEZA|   180|  15| Brazil|    14|     DF|       DANILO|   184| 15|\n",
      "|Argentina|     2|     GK|       GUZMÁN|   192|  10| Brazil|     2|     DF|     T. SILVA|   183| 22|\n",
      "|Argentina|    12|     MF|     DI MARÍA|   178|  14| Brazil|    12|     DF|      MARCELO|   174| 12|\n",
      "|Argentina|    15|     DF|   MASCHERANO|   174|  08| Brazil|    15|     MF|     PAULINHO|   181| 25|\n",
      "|Argentina|     4|     DF|   TAGLIAFICO|   169|  31| Brazil|     4|     DF|      GEROMEL|   190| 21|\n",
      "|Argentina|     5|     DF|      ANSALDI|   181|  20| Brazil|     5|     MF|     CASEMIRO|   185| 23|\n",
      "|Argentina|     8|     MF|       BANEGA|   175|  29| Brazil|     8|     MF|   R. AUGUSTO|   186| 08|\n",
      "|Argentina|    23|     MF|        PAVÓN|   169|  21| Brazil|    23|     GK|      EDERSON|   188| 17|\n",
      "|     null|  null|   null|         null|  null|null| Brazil|     1|     GK|    A. BECKER|   193| 02|\n",
      "|Argentina|    16|     MF|      LANZINI|   167|  15| Brazil|    16|     GK|       CASSIO|   195| 06|\n",
      "+---------+------+-------+-------------+------+----+-------+------+-------+-------------+------+---+\n",
      "\n"
     ]
    }
   ],
   "source": [
    "dfnovo = arg.join(bra, arg.Numero == bra.Numero, 'right')\n",
    "dfnovo.show(40)"
   ]
  },
  {
   "cell_type": "markdown",
   "metadata": {},
   "source": [
    "##### Full Join"
   ]
  },
  {
   "cell_type": "code",
   "execution_count": 34,
   "metadata": {},
   "outputs": [
    {
     "name": "stdout",
     "output_type": "stream",
     "text": [
      "+---------+------+-------+-------------+------+----+-------+------+-------+-------------+------+----+\n",
      "|  Selecao|Numero|Posicao|Nome Camiseta|Altura| Dia|Selecao|Numero|Posicao|Nome Camiseta|Altura| Dia|\n",
      "+---------+------+-------+-------------+------+----+-------+------+-------+-------------+------+----+\n",
      "|     null|  null|   null|         null|  null|null| Brazil|     1|     GK|    A. BECKER|   193|  02|\n",
      "|Argentina|     2|     GK|       GUZMÁN|   192|  10| Brazil|     2|     DF|     T. SILVA|   183|  22|\n",
      "|Argentina|     3|     DF|      MERCADO|   181|  18| Brazil|     3|     DF|      MIRANDA|   186|  07|\n",
      "|Argentina|     4|     DF|   TAGLIAFICO|   169|  31| Brazil|     4|     DF|      GEROMEL|   190|  21|\n",
      "|Argentina|     5|     DF|      ANSALDI|   181|  20| Brazil|     5|     MF|     CASEMIRO|   185|  23|\n",
      "|Argentina|     6|     MF|       BIGLIA|   175|  30| Brazil|     6|     DF|  FILIPE LUIS|   182|  09|\n",
      "|Argentina|     7|     DF|        FAZIO|   199|  17| Brazil|     7|     FW|     D. COSTA|   182|  14|\n",
      "|Argentina|     8|     MF|       BANEGA|   175|  29| Brazil|     8|     MF|   R. AUGUSTO|   186|  08|\n",
      "|Argentina|     9|     DF|        ACUÑA|   172|  28| Brazil|     9|     FW|     G. JESUS|   175|  03|\n",
      "|Argentina|    10|     FW|      HIGUAÍN|   184|  10| Brazil|    10|     FW|    NEYMAR JR|   175|  05|\n",
      "|Argentina|    11|     FW|        MESSI|   170|  24| Brazil|    11|     MF|  P. COUTINHO|   172|  12|\n",
      "|Argentina|    12|     MF|     DI MARÍA|   178|  14| Brazil|    12|     DF|      MARCELO|   174|  12|\n",
      "|Argentina|    13|     GK|       ARMANI|   189|  16| Brazil|    13|     DF|   MARQUINHOS|   183|  14|\n",
      "|Argentina|    14|     MF|         MEZA|   180|  15| Brazil|    14|     DF|       DANILO|   184|  15|\n",
      "|Argentina|    15|     DF|   MASCHERANO|   174|  08| Brazil|    15|     MF|     PAULINHO|   181|  25|\n",
      "|Argentina|    16|     MF|      LANZINI|   167|  15| Brazil|    16|     GK|       CASSIO|   195|  06|\n",
      "|Argentina|    17|     DF|         ROJO|   189|  20| Brazil|    17|     MF|  FERNANDINHO|   179|  04|\n",
      "|Argentina|    18|     DF|     OTAMENDI|   181|  12| Brazil|    18|     MF|         FRED|   169|  05|\n",
      "|Argentina|    19|     DF|       SALVIO|   167|  13| Brazil|    19|     MF|      WILLIAN|   175|  09|\n",
      "|Argentina|    20|     FW|       AGÜERO|   172|  02| Brazil|    20|     FW|      FIRMINO|   181|  02|\n",
      "|Argentina|    21|     MF|     LO CELSO|   177|  09| Brazil|    21|     FW|       TAISON|   172|  13|\n",
      "|Argentina|    22|     FW|       DYBALA|   177|  15| Brazil|    22|     DF|       FAGNER|   168|  11|\n",
      "|Argentina|    23|     MF|        PAVÓN|   169|  21| Brazil|    23|     GK|      EDERSON|   188|  17|\n",
      "|Argentina|    24|     GK|    CABALLERO|   186|  28|   null|  null|   null|         null|  null|null|\n",
      "+---------+------+-------+-------------+------+----+-------+------+-------+-------------+------+----+\n",
      "\n"
     ]
    }
   ],
   "source": [
    "dfnovo = arg.join(bra, arg.Numero == bra.Numero,'full')\n",
    "dfnovo.show(40)"
   ]
  },
  {
   "cell_type": "markdown",
   "metadata": {},
   "source": [
    "##### Semi Join\n",
    "\n",
    "parecido com o Inner, mas mostra só o que tem correspondencia"
   ]
  },
  {
   "cell_type": "code",
   "execution_count": 36,
   "metadata": {},
   "outputs": [
    {
     "name": "stdout",
     "output_type": "stream",
     "text": [
      "+---------+------+-------+-------------+------+---+\n",
      "|  Selecao|Numero|Posicao|Nome Camiseta|Altura|Dia|\n",
      "+---------+------+-------+-------------+------+---+\n",
      "|Argentina|     4|     DF|   TAGLIAFICO|   169| 31|\n",
      "|Argentina|    23|     MF|        PAVÓN|   169| 21|\n",
      "|Argentina|    16|     MF|      LANZINI|   167| 15|\n",
      "|Argentina|    19|     DF|       SALVIO|   167| 13|\n",
      "|Argentina|    11|     FW|        MESSI|   170| 24|\n",
      "|Argentina|     5|     DF|      ANSALDI|   181| 20|\n",
      "|Argentina|     6|     MF|       BIGLIA|   175| 30|\n",
      "|Argentina|     8|     MF|       BANEGA|   175| 29|\n",
      "|Argentina|    15|     DF|   MASCHERANO|   174| 08|\n",
      "|Argentina|    22|     FW|       DYBALA|   177| 15|\n",
      "|Argentina|    20|     FW|       AGÜERO|   172| 02|\n",
      "|Argentina|    10|     FW|      HIGUAÍN|   184| 10|\n",
      "|Argentina|    12|     MF|     DI MARÍA|   178| 14|\n",
      "|Argentina|    21|     MF|     LO CELSO|   177| 09|\n",
      "|Argentina|    14|     MF|         MEZA|   180| 15|\n",
      "|Argentina|     9|     DF|        ACUÑA|   172| 28|\n",
      "|Argentina|     3|     DF|      MERCADO|   181| 18|\n",
      "|Argentina|    18|     DF|     OTAMENDI|   181| 12|\n",
      "|Argentina|    17|     DF|         ROJO|   189| 20|\n",
      "|Argentina|     7|     DF|        FAZIO|   199| 17|\n",
      "|Argentina|    13|     GK|       ARMANI|   189| 16|\n",
      "|Argentina|     2|     GK|       GUZMÁN|   192| 10|\n",
      "+---------+------+-------+-------------+------+---+\n",
      "\n"
     ]
    }
   ],
   "source": [
    "dfnovo = arg.join(bra, arg.Numero == bra.Numero,'semi')\n",
    "dfnovo.show(40)"
   ]
  },
  {
   "cell_type": "markdown",
   "metadata": {},
   "source": [
    "##### Anti Join\n",
    "\n",
    "Ao contrario do Semi, mostra o que nao teve correspondencia"
   ]
  },
  {
   "cell_type": "code",
   "execution_count": 37,
   "metadata": {},
   "outputs": [
    {
     "name": "stdout",
     "output_type": "stream",
     "text": [
      "+---------+------+-------+-------------+------+---+\n",
      "|  Selecao|Numero|Posicao|Nome Camiseta|Altura|Dia|\n",
      "+---------+------+-------+-------------+------+---+\n",
      "|Argentina|    24|     GK|    CABALLERO|   186| 28|\n",
      "+---------+------+-------+-------------+------+---+\n",
      "\n"
     ]
    }
   ],
   "source": [
    "dfnovo = arg.join(bra, arg.Numero == bra.Numero, 'anti')\n",
    "dfnovo.show(40)"
   ]
  }
 ],
 "metadata": {
  "interpreter": {
   "hash": "388205e5731b4f355eaaff016a45c2f47ce51ebec73bddfe135d5f542472dd84"
  },
  "kernelspec": {
   "display_name": "Python 3.10.2 64-bit",
   "language": "python",
   "name": "python3"
  },
  "language_info": {
   "codemirror_mode": {
    "name": "ipython",
    "version": 3
   },
   "file_extension": ".py",
   "mimetype": "text/x-python",
   "name": "python",
   "nbconvert_exporter": "python",
   "pygments_lexer": "ipython3",
   "version": "3.10.2"
  },
  "orig_nbformat": 4
 },
 "nbformat": 4,
 "nbformat_minor": 2
}
