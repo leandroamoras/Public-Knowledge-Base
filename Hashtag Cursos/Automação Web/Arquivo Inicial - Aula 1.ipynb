{
 "cells": [
  {
   "cell_type": "markdown",
   "metadata": {},
   "source": [
    "# Automação de Sistemas e Processos com Python\n",
    "\n",
    "### Desafio:\n",
    "\n",
    "Todos os dias, o nosso sistema atualiza as vendas do dia anterior.\n",
    "O seu trabalho diário, como analista, é enviar um e-mail para a diretoria, assim que começar a trabalhar, com o faturamento e a quantidade de produtos vendidos no dia anterior\n",
    "\n",
    "E-mail da diretoria: seugmail+diretoria@gmail.com<br>\n",
    "Local onde o sistema disponibiliza as vendas do dia anterior: https://drive.google.com/drive/folders/1mhXZ3JPAnekXP_4vX7Z_sJj35VWqayaR?usp=sharing\n",
    "\n",
    "Para resolver isso, vamos usar o pyautogui, uma biblioteca de automação de comandos do mouse e do teclado"
   ]
  },
  {
   "cell_type": "code",
   "execution_count": 1,
   "metadata": {},
   "outputs": [],
   "source": [
    "#importar bibliotecas\n",
    "import pyautogui\n",
    "import time\n",
    "import pyperclip\n",
    "\n",
    "pyautogui.PAUSE =1\n",
    "#Passo 1: entrar no sistema (link do Google Drive)\n",
    "#abrir nova aba\n",
    "pyautogui.hotkey('ctrl','t')\n",
    "link = (\"https://drive.google.com/drive/folders/1mhXZ3JPAnekXP_4vX7Z_sJj35VWqayaR?usp=sharing\")\n",
    "pyperclip.copy(link)\n",
    "#cola o link\n",
    "pyautogui.hotkey('ctrl','v')\n",
    "pyautogui.press(\"enter\")\n",
    "#espera um poquinho\n",
    "time.sleep(5)\n",
    "\n",
    "#Passo 2: Entra na pasta da aula 1\n",
    "pyautogui.click(342,287, clicks=2)\n",
    "#Passo 3: fazer o donwload da Base de Vendas\n",
    "pyautogui.click(391,293)\n",
    "pyautogui.click(1711,202)\n",
    "pyautogui.click(1520,591)\n",
    "time.sleep(10)\n",
    "\n",
    "#Como entrar em qualquer sistema\n",
    "\n",
    "#pyautogui.press(\"win\")\n",
    "#pyautogui.write(\"power bi\")\n",
    "#pyautogui.press(\"enter\")"
   ]
  },
  {
   "cell_type": "markdown",
   "metadata": {},
   "source": [
    "### Vamos agora ler o arquivo baixado para pegar os indicadores\n",
    "\n",
    "- Faturamento\n",
    "- Quantidade de Produtos"
   ]
  },
  {
   "cell_type": "code",
   "execution_count": 2,
   "metadata": {},
   "outputs": [],
   "source": [
    "#Passo 4: Calcular os indicadores (Faturamento e a Quantidade de Produtos)\n",
    "import pandas as pd\n",
    "tabela = pd.read_excel(r\"C:\\Users\\Leandro Amoras\\Downloads\\Vendas - Dez.xlsx\")\n",
    "#display(tabela)\n",
    "faturamento = tabela['Valor Final'].sum()\n",
    "qtde_produtos = tabela['Quantidade'].sum()"
   ]
  },
  {
   "cell_type": "markdown",
   "metadata": {},
   "source": [
    "### Vamos agora enviar um e-mail pelo gmail"
   ]
  },
  {
   "cell_type": "code",
   "execution_count": 3,
   "metadata": {},
   "outputs": [],
   "source": [
    "#Passo 5: Entrar no meu email\n",
    "#email da diretoria: amorasleandro+diretoria@gmail.com\n",
    "\n",
    "pyautogui.hotkey('ctrl','t')\n",
    "link = (\"https://mail.google.com/\")\n",
    "pyperclip.copy(link)\n",
    "#cola o link\n",
    "pyautogui.hotkey('ctrl','v')\n",
    "pyautogui.press(\"enter\")\n",
    "#espera um pouquinho\n",
    "time.sleep(8)\n",
    "\n",
    "#Passo 6: Criar o email\n",
    "pyautogui.click(34,183)\n",
    "time.sleep(5)\n",
    "\n",
    "#escolher o e-mail\n",
    "pyautogui.write(\"amorasleandro+diretoria@gmail.com\")\n",
    "pyautogui.press(\"tab\")\n",
    "\n",
    "#preencher assunto\n",
    "pyautogui.press(\"tab\")\n",
    "assunto = \"Relatório de Vendas\"\n",
    "pyperclip.copy(assunto)\n",
    "pyautogui.hotkey(\"ctrl\",\"v\")\n",
    "\n",
    "\n",
    "#Preencher o email\n",
    "pyautogui.press(\"tab\")\n",
    "#Limpar saudação (adicional)\n",
    "pyautogui.hotkey(\"ctrl\",\"a\")\n",
    "pyautogui.press(\"del\")\n",
    "pyautogui.press(\"backspace\")\n",
    "texto_email = f\"\"\"\n",
    "Prezado, bom dia!\n",
    "\n",
    "O faturamento foi de: R$ {faturamento:,.2f}\n",
    "A quantidade de produtos foi de: {qtde_produtos:,}\n",
    "\n",
    "Att, abs\n",
    "Leandro Amoras\n",
    "\"\"\"\n",
    "pyperclip.copy(texto_email)\n",
    "pyautogui.hotkey(\"ctrl\",\"v\")\n",
    "\n",
    "#Passo 7: Enviar o email\n",
    "pyautogui.hotkey(\"ctrl\",\"enter\")"
   ]
  },
  {
   "cell_type": "markdown",
   "metadata": {},
   "source": [
    "#### Use esse código para descobrir qual a posição de um item que queira clicar\n",
    "\n",
    "- Lembre-se: a posição na sua tela é diferente da posição na minha tela"
   ]
  },
  {
   "cell_type": "code",
   "execution_count": 4,
   "metadata": {},
   "outputs": [
    {
     "data": {
      "text/plain": [
       "Point(x=34, y=183)"
      ]
     },
     "execution_count": 4,
     "metadata": {},
     "output_type": "execute_result"
    }
   ],
   "source": [
    "#Código secreto para descobrir a posição dos botões\n",
    "time.sleep(5)\n",
    "pyautogui.position()"
   ]
  }
 ],
 "metadata": {
  "kernelspec": {
   "display_name": "Python 3",
   "language": "python",
   "name": "python3"
  },
  "language_info": {
   "codemirror_mode": {
    "name": "ipython",
    "version": 3
   },
   "file_extension": ".py",
   "mimetype": "text/x-python",
   "name": "python",
   "nbconvert_exporter": "python",
   "pygments_lexer": "ipython3",
   "version": "3.8.5"
  },
  "latex_envs": {
   "LaTeX_envs_menu_present": true,
   "autoclose": false,
   "autocomplete": true,
   "bibliofile": "biblio.bib",
   "cite_by": "apalike",
   "current_citInitial": 1,
   "eqLabelWithNumbers": true,
   "eqNumInitial": 1,
   "hotkeys": {
    "equation": "Ctrl-E",
    "itemize": "Ctrl-I"
   },
   "labels_anchors": false,
   "latex_user_defs": false,
   "report_style_numbering": false,
   "user_envs_cfg": false
  }
 },
 "nbformat": 4,
 "nbformat_minor": 4
}
